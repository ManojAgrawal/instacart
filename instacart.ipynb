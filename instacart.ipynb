{
 "cells": [
  {
   "cell_type": "markdown",
   "metadata": {},
   "source": [
    "## Simple RFM model for Instacart market basket competition on Kaggle.com"
   ]
  },
  {
   "cell_type": "markdown",
   "metadata": {},
   "source": [
    "### This model works on the hypothesis that more frequently and recently an item is purchased, higher is the probability of the customer re-purchasing it in the future. Also, higher the probability of repurchase, higher will it be in sequence in the cart. I was not able to make a submission to the competition as I started working on the problem a little late but it was a good excercise.  "
   ]
  },
  {
   "cell_type": "code",
   "execution_count": 2,
   "metadata": {},
   "outputs": [],
   "source": [
    "import numpy as np\n",
    "import pandas as pd\n",
    "import os\n",
    "from sklearn.metrics import accuracy_score\n",
    "from sklearn.model_selection import train_test_split\n",
    "from sklearn.linear_model import LogisticRegression\n",
    "from sklearn.ensemble import RandomForestClassifier\n",
    "from sklearn.preprocessing import StandardScaler\n",
    "from sklearn.metrics import roc_auc_score\n",
    "import matplotlib.pyplot as plt\n",
    "import xgboost as xgb\n",
    "from sklearn.naive_bayes import GaussianNB\n",
    "import pickle\n",
    "%matplotlib inline"
   ]
  },
  {
   "cell_type": "code",
   "execution_count": 2,
   "metadata": {},
   "outputs": [
    {
     "data": {
      "text/plain": [
       "['.ipynb_checkpoints',\n",
       " 'aisles.csv',\n",
       " 'departments.csv',\n",
       " 'df.pickle',\n",
       " 'explore.qvw',\n",
       " 'instaR.R',\n",
       " 'orders.csv',\n",
       " 'order_products__prior.csv',\n",
       " 'order_products__train.csv',\n",
       " 'products.csv',\n",
       " 'qlik.csv',\n",
       " 'sample_submission.csv',\n",
       " 'Untitled.ipynb']"
      ]
     },
     "execution_count": 2,
     "metadata": {},
     "output_type": "execute_result"
    }
   ],
   "source": [
    "os.listdir()"
   ]
  },
  {
   "cell_type": "code",
   "execution_count": 3,
   "metadata": {
    "collapsed": true
   },
   "outputs": [],
   "source": [
    "#aisles = pd.read_csv(\"aisles.csv\")\n",
    "#departments = pd.read_csv(\"departments.csv\")\n",
    "orders = pd.read_csv(\"orders.csv\")\n",
    "order_prior = pd.read_csv(\"order_products__prior.csv\")\n",
    "order_train = pd.read_csv(\"order_products__train.csv\")\n",
    "#products = pd.read_csv(\"products.csv\")"
   ]
  },
  {
   "cell_type": "code",
   "execution_count": 97,
   "metadata": {},
   "outputs": [
    {
     "name": "stdout",
     "output_type": "stream",
     "text": [
      "   order_id  user_id eval_set  order_number  order_dow  order_hour_of_day  \\\n",
      "0   2539329        1    prior             1          2                  8   \n",
      "1   2398795        1    prior             2          3                  7   \n",
      "2    473747        1    prior             3          3                 12   \n",
      "3   2254736        1    prior             4          4                  7   \n",
      "4    431534        1    prior             5          4                 15   \n",
      "\n",
      "   days_since_prior_order  \n",
      "0                     NaN  \n",
      "1                    15.0  \n",
      "2                    21.0  \n",
      "3                    29.0  \n",
      "4                    28.0  \n",
      "   order_id  product_id  add_to_cart_order  reordered\n",
      "0         2       33120                  1          1\n",
      "1         2       28985                  2          1\n",
      "2         2        9327                  3          0\n",
      "3         2       45918                  4          1\n",
      "4         2       30035                  5          0\n",
      "   order_id  product_id  add_to_cart_order  reordered\n",
      "0         1       49302                  1          1\n",
      "1         1       11109                  2          1\n",
      "2         1       10246                  3          0\n",
      "3         1       49683                  4          0\n",
      "4         1       43633                  5          1\n"
     ]
    }
   ],
   "source": [
    "#print(aisles.head())\n",
    "#print(departments.head())\n",
    "print(orders.head())\n",
    "print(order_prior.head())\n",
    "print(order_train.head())\n",
    "#print(products.head())"
   ]
  },
  {
   "cell_type": "markdown",
   "metadata": {},
   "source": [
    "Separate training data and data for submission (predictions)"
   ]
  },
  {
   "cell_type": "code",
   "execution_count": 5,
   "metadata": {},
   "outputs": [
    {
     "data": {
      "text/html": [
       "<div>\n",
       "<style>\n",
       "    .dataframe thead tr:only-child th {\n",
       "        text-align: right;\n",
       "    }\n",
       "\n",
       "    .dataframe thead th {\n",
       "        text-align: left;\n",
       "    }\n",
       "\n",
       "    .dataframe tbody tr th {\n",
       "        vertical-align: top;\n",
       "    }\n",
       "</style>\n",
       "<table border=\"1\" class=\"dataframe\">\n",
       "  <thead>\n",
       "    <tr style=\"text-align: right;\">\n",
       "      <th></th>\n",
       "      <th>order_id</th>\n",
       "      <th>user_id</th>\n",
       "      <th>eval_set</th>\n",
       "      <th>order_number</th>\n",
       "      <th>order_dow</th>\n",
       "      <th>order_hour_of_day</th>\n",
       "      <th>days_since_prior_order</th>\n",
       "    </tr>\n",
       "  </thead>\n",
       "  <tbody>\n",
       "    <tr>\n",
       "      <th>0</th>\n",
       "      <td>2539329</td>\n",
       "      <td>1</td>\n",
       "      <td>prior</td>\n",
       "      <td>1</td>\n",
       "      <td>2</td>\n",
       "      <td>8</td>\n",
       "      <td>NaN</td>\n",
       "    </tr>\n",
       "    <tr>\n",
       "      <th>1</th>\n",
       "      <td>2398795</td>\n",
       "      <td>1</td>\n",
       "      <td>prior</td>\n",
       "      <td>2</td>\n",
       "      <td>3</td>\n",
       "      <td>7</td>\n",
       "      <td>15.0</td>\n",
       "    </tr>\n",
       "    <tr>\n",
       "      <th>2</th>\n",
       "      <td>473747</td>\n",
       "      <td>1</td>\n",
       "      <td>prior</td>\n",
       "      <td>3</td>\n",
       "      <td>3</td>\n",
       "      <td>12</td>\n",
       "      <td>21.0</td>\n",
       "    </tr>\n",
       "    <tr>\n",
       "      <th>3</th>\n",
       "      <td>2254736</td>\n",
       "      <td>1</td>\n",
       "      <td>prior</td>\n",
       "      <td>4</td>\n",
       "      <td>4</td>\n",
       "      <td>7</td>\n",
       "      <td>29.0</td>\n",
       "    </tr>\n",
       "    <tr>\n",
       "      <th>4</th>\n",
       "      <td>431534</td>\n",
       "      <td>1</td>\n",
       "      <td>prior</td>\n",
       "      <td>5</td>\n",
       "      <td>4</td>\n",
       "      <td>15</td>\n",
       "      <td>28.0</td>\n",
       "    </tr>\n",
       "  </tbody>\n",
       "</table>\n",
       "</div>"
      ],
      "text/plain": [
       "   order_id  user_id eval_set  order_number  order_dow  order_hour_of_day  \\\n",
       "0   2539329        1    prior             1          2                  8   \n",
       "1   2398795        1    prior             2          3                  7   \n",
       "2    473747        1    prior             3          3                 12   \n",
       "3   2254736        1    prior             4          4                  7   \n",
       "4    431534        1    prior             5          4                 15   \n",
       "\n",
       "   days_since_prior_order  \n",
       "0                     NaN  \n",
       "1                    15.0  \n",
       "2                    21.0  \n",
       "3                    29.0  \n",
       "4                    28.0  "
      ]
     },
     "execution_count": 5,
     "metadata": {},
     "output_type": "execute_result"
    }
   ],
   "source": [
    "users_train = orders.user_id[orders.eval_set=='train']\n",
    "data_train = orders[orders['user_id'].isin(users_train)]\n",
    "data_train.head()"
   ]
  },
  {
   "cell_type": "code",
   "execution_count": 6,
   "metadata": {},
   "outputs": [
    {
     "data": {
      "text/html": [
       "<div>\n",
       "<style>\n",
       "    .dataframe thead tr:only-child th {\n",
       "        text-align: right;\n",
       "    }\n",
       "\n",
       "    .dataframe thead th {\n",
       "        text-align: left;\n",
       "    }\n",
       "\n",
       "    .dataframe tbody tr th {\n",
       "        vertical-align: top;\n",
       "    }\n",
       "</style>\n",
       "<table border=\"1\" class=\"dataframe\">\n",
       "  <thead>\n",
       "    <tr style=\"text-align: right;\">\n",
       "      <th></th>\n",
       "      <th>order_id</th>\n",
       "      <th>user_id</th>\n",
       "      <th>eval_set</th>\n",
       "      <th>order_number</th>\n",
       "      <th>order_dow</th>\n",
       "      <th>order_hour_of_day</th>\n",
       "      <th>days_since_prior_order</th>\n",
       "    </tr>\n",
       "  </thead>\n",
       "  <tbody>\n",
       "    <tr>\n",
       "      <th>26</th>\n",
       "      <td>1374495</td>\n",
       "      <td>3</td>\n",
       "      <td>prior</td>\n",
       "      <td>1</td>\n",
       "      <td>1</td>\n",
       "      <td>14</td>\n",
       "      <td>NaN</td>\n",
       "    </tr>\n",
       "    <tr>\n",
       "      <th>27</th>\n",
       "      <td>444309</td>\n",
       "      <td>3</td>\n",
       "      <td>prior</td>\n",
       "      <td>2</td>\n",
       "      <td>3</td>\n",
       "      <td>19</td>\n",
       "      <td>9.0</td>\n",
       "    </tr>\n",
       "    <tr>\n",
       "      <th>28</th>\n",
       "      <td>3002854</td>\n",
       "      <td>3</td>\n",
       "      <td>prior</td>\n",
       "      <td>3</td>\n",
       "      <td>3</td>\n",
       "      <td>16</td>\n",
       "      <td>21.0</td>\n",
       "    </tr>\n",
       "    <tr>\n",
       "      <th>29</th>\n",
       "      <td>2037211</td>\n",
       "      <td>3</td>\n",
       "      <td>prior</td>\n",
       "      <td>4</td>\n",
       "      <td>2</td>\n",
       "      <td>18</td>\n",
       "      <td>20.0</td>\n",
       "    </tr>\n",
       "    <tr>\n",
       "      <th>30</th>\n",
       "      <td>2710558</td>\n",
       "      <td>3</td>\n",
       "      <td>prior</td>\n",
       "      <td>5</td>\n",
       "      <td>0</td>\n",
       "      <td>17</td>\n",
       "      <td>12.0</td>\n",
       "    </tr>\n",
       "    <tr>\n",
       "      <th>31</th>\n",
       "      <td>1972919</td>\n",
       "      <td>3</td>\n",
       "      <td>prior</td>\n",
       "      <td>6</td>\n",
       "      <td>0</td>\n",
       "      <td>16</td>\n",
       "      <td>7.0</td>\n",
       "    </tr>\n",
       "    <tr>\n",
       "      <th>32</th>\n",
       "      <td>1839752</td>\n",
       "      <td>3</td>\n",
       "      <td>prior</td>\n",
       "      <td>7</td>\n",
       "      <td>0</td>\n",
       "      <td>15</td>\n",
       "      <td>7.0</td>\n",
       "    </tr>\n",
       "    <tr>\n",
       "      <th>33</th>\n",
       "      <td>3225766</td>\n",
       "      <td>3</td>\n",
       "      <td>prior</td>\n",
       "      <td>8</td>\n",
       "      <td>0</td>\n",
       "      <td>17</td>\n",
       "      <td>7.0</td>\n",
       "    </tr>\n",
       "    <tr>\n",
       "      <th>34</th>\n",
       "      <td>3160850</td>\n",
       "      <td>3</td>\n",
       "      <td>prior</td>\n",
       "      <td>9</td>\n",
       "      <td>0</td>\n",
       "      <td>16</td>\n",
       "      <td>7.0</td>\n",
       "    </tr>\n",
       "    <tr>\n",
       "      <th>35</th>\n",
       "      <td>676467</td>\n",
       "      <td>3</td>\n",
       "      <td>prior</td>\n",
       "      <td>10</td>\n",
       "      <td>3</td>\n",
       "      <td>16</td>\n",
       "      <td>17.0</td>\n",
       "    </tr>\n",
       "    <tr>\n",
       "      <th>36</th>\n",
       "      <td>521107</td>\n",
       "      <td>3</td>\n",
       "      <td>prior</td>\n",
       "      <td>11</td>\n",
       "      <td>0</td>\n",
       "      <td>18</td>\n",
       "      <td>11.0</td>\n",
       "    </tr>\n",
       "    <tr>\n",
       "      <th>37</th>\n",
       "      <td>1402502</td>\n",
       "      <td>3</td>\n",
       "      <td>prior</td>\n",
       "      <td>12</td>\n",
       "      <td>1</td>\n",
       "      <td>15</td>\n",
       "      <td>15.0</td>\n",
       "    </tr>\n",
       "    <tr>\n",
       "      <th>38</th>\n",
       "      <td>2774568</td>\n",
       "      <td>3</td>\n",
       "      <td>test</td>\n",
       "      <td>13</td>\n",
       "      <td>5</td>\n",
       "      <td>15</td>\n",
       "      <td>11.0</td>\n",
       "    </tr>\n",
       "    <tr>\n",
       "      <th>39</th>\n",
       "      <td>3343014</td>\n",
       "      <td>4</td>\n",
       "      <td>prior</td>\n",
       "      <td>1</td>\n",
       "      <td>6</td>\n",
       "      <td>11</td>\n",
       "      <td>NaN</td>\n",
       "    </tr>\n",
       "    <tr>\n",
       "      <th>40</th>\n",
       "      <td>2030307</td>\n",
       "      <td>4</td>\n",
       "      <td>prior</td>\n",
       "      <td>2</td>\n",
       "      <td>4</td>\n",
       "      <td>11</td>\n",
       "      <td>19.0</td>\n",
       "    </tr>\n",
       "    <tr>\n",
       "      <th>41</th>\n",
       "      <td>691089</td>\n",
       "      <td>4</td>\n",
       "      <td>prior</td>\n",
       "      <td>3</td>\n",
       "      <td>4</td>\n",
       "      <td>15</td>\n",
       "      <td>21.0</td>\n",
       "    </tr>\n",
       "    <tr>\n",
       "      <th>42</th>\n",
       "      <td>94891</td>\n",
       "      <td>4</td>\n",
       "      <td>prior</td>\n",
       "      <td>4</td>\n",
       "      <td>5</td>\n",
       "      <td>13</td>\n",
       "      <td>15.0</td>\n",
       "    </tr>\n",
       "    <tr>\n",
       "      <th>43</th>\n",
       "      <td>2557754</td>\n",
       "      <td>4</td>\n",
       "      <td>prior</td>\n",
       "      <td>5</td>\n",
       "      <td>5</td>\n",
       "      <td>13</td>\n",
       "      <td>0.0</td>\n",
       "    </tr>\n",
       "    <tr>\n",
       "      <th>44</th>\n",
       "      <td>329954</td>\n",
       "      <td>4</td>\n",
       "      <td>test</td>\n",
       "      <td>6</td>\n",
       "      <td>3</td>\n",
       "      <td>12</td>\n",
       "      <td>30.0</td>\n",
       "    </tr>\n",
       "    <tr>\n",
       "      <th>50</th>\n",
       "      <td>2086598</td>\n",
       "      <td>6</td>\n",
       "      <td>prior</td>\n",
       "      <td>1</td>\n",
       "      <td>5</td>\n",
       "      <td>18</td>\n",
       "      <td>NaN</td>\n",
       "    </tr>\n",
       "  </tbody>\n",
       "</table>\n",
       "</div>"
      ],
      "text/plain": [
       "    order_id  user_id eval_set  order_number  order_dow  order_hour_of_day  \\\n",
       "26   1374495        3    prior             1          1                 14   \n",
       "27    444309        3    prior             2          3                 19   \n",
       "28   3002854        3    prior             3          3                 16   \n",
       "29   2037211        3    prior             4          2                 18   \n",
       "30   2710558        3    prior             5          0                 17   \n",
       "31   1972919        3    prior             6          0                 16   \n",
       "32   1839752        3    prior             7          0                 15   \n",
       "33   3225766        3    prior             8          0                 17   \n",
       "34   3160850        3    prior             9          0                 16   \n",
       "35    676467        3    prior            10          3                 16   \n",
       "36    521107        3    prior            11          0                 18   \n",
       "37   1402502        3    prior            12          1                 15   \n",
       "38   2774568        3     test            13          5                 15   \n",
       "39   3343014        4    prior             1          6                 11   \n",
       "40   2030307        4    prior             2          4                 11   \n",
       "41    691089        4    prior             3          4                 15   \n",
       "42     94891        4    prior             4          5                 13   \n",
       "43   2557754        4    prior             5          5                 13   \n",
       "44    329954        4     test             6          3                 12   \n",
       "50   2086598        6    prior             1          5                 18   \n",
       "\n",
       "    days_since_prior_order  \n",
       "26                     NaN  \n",
       "27                     9.0  \n",
       "28                    21.0  \n",
       "29                    20.0  \n",
       "30                    12.0  \n",
       "31                     7.0  \n",
       "32                     7.0  \n",
       "33                     7.0  \n",
       "34                     7.0  \n",
       "35                    17.0  \n",
       "36                    11.0  \n",
       "37                    15.0  \n",
       "38                    11.0  \n",
       "39                     NaN  \n",
       "40                    19.0  \n",
       "41                    21.0  \n",
       "42                    15.0  \n",
       "43                     0.0  \n",
       "44                    30.0  \n",
       "50                     NaN  "
      ]
     },
     "execution_count": 6,
     "metadata": {},
     "output_type": "execute_result"
    }
   ],
   "source": [
    "users_predict = orders.user_id[orders.eval_set=='test']\n",
    "data_predict = orders[orders['user_id'].isin(users_predict)]\n",
    "data_predict.head(20)"
   ]
  },
  {
   "cell_type": "markdown",
   "metadata": {},
   "source": [
    "To better train the model, select users with higher number of orders created. We are taking median as threshold"
   ]
  },
  {
   "cell_type": "code",
   "execution_count": 7,
   "metadata": {},
   "outputs": [
    {
     "data": {
      "text/plain": [
       "10.0"
      ]
     },
     "execution_count": 7,
     "metadata": {},
     "output_type": "execute_result"
    }
   ],
   "source": [
    "data_train.groupby('user_id').order_number.max().median() "
   ]
  },
  {
   "cell_type": "code",
   "execution_count": 8,
   "metadata": {},
   "outputs": [
    {
     "name": "stdout",
     "output_type": "stream",
     "text": [
      "<class 'pandas.core.frame.DataFrame'>\n",
      "Int64Index: 1814094 entries, 0 to 3421082\n",
      "Data columns (total 7 columns):\n",
      "order_id                  int64\n",
      "user_id                   int64\n",
      "eval_set                  object\n",
      "order_number              int64\n",
      "order_dow                 int64\n",
      "order_hour_of_day         int64\n",
      "days_since_prior_order    float64\n",
      "dtypes: float64(1), int64(5), object(1)\n",
      "memory usage: 110.7+ MB\n"
     ]
    }
   ],
   "source": [
    "users_10 = data_train.user_id[data_train.order_number > 9]\n",
    "data_train = data_train[data_train['user_id'].isin(users_10)]\n",
    "data_train.info()"
   ]
  },
  {
   "cell_type": "code",
   "execution_count": 186,
   "metadata": {},
   "outputs": [
    {
     "name": "stdout",
     "output_type": "stream",
     "text": [
      "   order_id  user_id eval_set  order_number  order_dow  order_hour_of_day  \\\n",
      "0   2168274        2    prior             1          2                 11   \n",
      "1   2168274        2    prior             1          2                 11   \n",
      "2   2168274        2    prior             1          2                 11   \n",
      "3   2168274        2    prior             1          2                 11   \n",
      "4   2168274        2    prior             1          2                 11   \n",
      "\n",
      "   days_since_prior_order  product_id  add_to_cart_order  reordered  \n",
      "0                     NaN       32792                  1          0  \n",
      "1                     NaN       47766                  2          0  \n",
      "2                     NaN       20574                  3          0  \n",
      "3                     NaN       12000                  4          0  \n",
      "4                     NaN       48110                  5          0  \n",
      "   order_id  user_id eval_set  order_number  order_dow  order_hour_of_day  \\\n",
      "0   1492625        2    train            15          1                 11   \n",
      "1   1492625        2    train            15          1                 11   \n",
      "2   1492625        2    train            15          1                 11   \n",
      "3   1492625        2    train            15          1                 11   \n",
      "4   1492625        2    train            15          1                 11   \n",
      "\n",
      "   days_since_prior_order  product_id  add_to_cart_order  reordered  \n",
      "0                    30.0       22963                  1          1  \n",
      "1                    30.0        7963                  2          1  \n",
      "2                    30.0       16589                  3          1  \n",
      "3                    30.0       32792                  4          1  \n",
      "4                    30.0       41787                  5          1  \n"
     ]
    }
   ],
   "source": [
    "orders_train = data_train.loc[(data_train.user_id==2) & (data_train.eval_set=='prior'),:]\n",
    "orders_train = pd.merge(orders_train,order_prior,'inner',on='order_id')\n",
    "orders_test = data_train.loc[(data_train.user_id==2) & (data_train.eval_set=='train'),:]\n",
    "orders_test = pd.merge(orders_test,order_train,'inner',on='order_id')\n",
    "print(orders_train.head())\n",
    "print(orders_test.head())"
   ]
  },
  {
   "cell_type": "code",
   "execution_count": 187,
   "metadata": {},
   "outputs": [
    {
     "data": {
      "text/html": [
       "<div>\n",
       "<style>\n",
       "    .dataframe thead tr:only-child th {\n",
       "        text-align: right;\n",
       "    }\n",
       "\n",
       "    .dataframe thead th {\n",
       "        text-align: left;\n",
       "    }\n",
       "\n",
       "    .dataframe tbody tr th {\n",
       "        vertical-align: top;\n",
       "    }\n",
       "</style>\n",
       "<table border=\"1\" class=\"dataframe\">\n",
       "  <thead>\n",
       "    <tr style=\"text-align: right;\">\n",
       "      <th></th>\n",
       "      <th>order_number</th>\n",
       "      <th>days_since_prior_order</th>\n",
       "      <th>cum_days</th>\n",
       "    </tr>\n",
       "  </thead>\n",
       "  <tbody>\n",
       "    <tr>\n",
       "      <th>0</th>\n",
       "      <td>1</td>\n",
       "      <td>0.0</td>\n",
       "      <td>0.0</td>\n",
       "    </tr>\n",
       "    <tr>\n",
       "      <th>13</th>\n",
       "      <td>2</td>\n",
       "      <td>10.0</td>\n",
       "      <td>10.0</td>\n",
       "    </tr>\n",
       "    <tr>\n",
       "      <th>19</th>\n",
       "      <td>3</td>\n",
       "      <td>3.0</td>\n",
       "      <td>13.0</td>\n",
       "    </tr>\n",
       "    <tr>\n",
       "      <th>24</th>\n",
       "      <td>4</td>\n",
       "      <td>8.0</td>\n",
       "      <td>21.0</td>\n",
       "    </tr>\n",
       "    <tr>\n",
       "      <th>37</th>\n",
       "      <td>5</td>\n",
       "      <td>8.0</td>\n",
       "      <td>29.0</td>\n",
       "    </tr>\n",
       "    <tr>\n",
       "      <th>50</th>\n",
       "      <td>6</td>\n",
       "      <td>13.0</td>\n",
       "      <td>42.0</td>\n",
       "    </tr>\n",
       "    <tr>\n",
       "      <th>71</th>\n",
       "      <td>7</td>\n",
       "      <td>14.0</td>\n",
       "      <td>56.0</td>\n",
       "    </tr>\n",
       "    <tr>\n",
       "      <th>85</th>\n",
       "      <td>8</td>\n",
       "      <td>27.0</td>\n",
       "      <td>83.0</td>\n",
       "    </tr>\n",
       "    <tr>\n",
       "      <th>101</th>\n",
       "      <td>9</td>\n",
       "      <td>8.0</td>\n",
       "      <td>91.0</td>\n",
       "    </tr>\n",
       "    <tr>\n",
       "      <th>127</th>\n",
       "      <td>10</td>\n",
       "      <td>6.0</td>\n",
       "      <td>97.0</td>\n",
       "    </tr>\n",
       "    <tr>\n",
       "      <th>136</th>\n",
       "      <td>11</td>\n",
       "      <td>30.0</td>\n",
       "      <td>127.0</td>\n",
       "    </tr>\n",
       "    <tr>\n",
       "      <th>151</th>\n",
       "      <td>12</td>\n",
       "      <td>28.0</td>\n",
       "      <td>155.0</td>\n",
       "    </tr>\n",
       "    <tr>\n",
       "      <th>170</th>\n",
       "      <td>13</td>\n",
       "      <td>30.0</td>\n",
       "      <td>185.0</td>\n",
       "    </tr>\n",
       "    <tr>\n",
       "      <th>179</th>\n",
       "      <td>14</td>\n",
       "      <td>13.0</td>\n",
       "      <td>198.0</td>\n",
       "    </tr>\n",
       "  </tbody>\n",
       "</table>\n",
       "</div>"
      ],
      "text/plain": [
       "     order_number  days_since_prior_order  cum_days\n",
       "0               1                     0.0       0.0\n",
       "13              2                    10.0      10.0\n",
       "19              3                     3.0      13.0\n",
       "24              4                     8.0      21.0\n",
       "37              5                     8.0      29.0\n",
       "50              6                    13.0      42.0\n",
       "71              7                    14.0      56.0\n",
       "85              8                    27.0      83.0\n",
       "101             9                     8.0      91.0\n",
       "127            10                     6.0      97.0\n",
       "136            11                    30.0     127.0\n",
       "151            12                    28.0     155.0\n",
       "170            13                    30.0     185.0\n",
       "179            14                    13.0     198.0"
      ]
     },
     "execution_count": 187,
     "metadata": {},
     "output_type": "execute_result"
    }
   ],
   "source": [
    "order_days = orders_train[['order_number','days_since_prior_order']]\n",
    "order_days = order_days.drop_duplicates()\n",
    "order_days.update(order_days[['days_since_prior_order']].fillna(0))\n",
    "order_days['cum_days'] = order_days['days_since_prior_order'].cumsum()\n",
    "order_days"
   ]
  },
  {
   "cell_type": "code",
   "execution_count": 188,
   "metadata": {},
   "outputs": [
    {
     "data": {
      "text/html": [
       "<div>\n",
       "<style>\n",
       "    .dataframe thead tr:only-child th {\n",
       "        text-align: right;\n",
       "    }\n",
       "\n",
       "    .dataframe thead th {\n",
       "        text-align: left;\n",
       "    }\n",
       "\n",
       "    .dataframe tbody tr th {\n",
       "        vertical-align: top;\n",
       "    }\n",
       "</style>\n",
       "<table border=\"1\" class=\"dataframe\">\n",
       "  <thead>\n",
       "    <tr style=\"text-align: right;\">\n",
       "      <th></th>\n",
       "      <th>order_id</th>\n",
       "      <th>user_id</th>\n",
       "      <th>eval_set</th>\n",
       "      <th>order_number</th>\n",
       "      <th>order_dow</th>\n",
       "      <th>order_hour_of_day</th>\n",
       "      <th>days_since_prior_order</th>\n",
       "      <th>product_id</th>\n",
       "      <th>add_to_cart_order</th>\n",
       "      <th>reordered</th>\n",
       "      <th>cum_days</th>\n",
       "    </tr>\n",
       "  </thead>\n",
       "  <tbody>\n",
       "    <tr>\n",
       "      <th>0</th>\n",
       "      <td>2168274</td>\n",
       "      <td>2</td>\n",
       "      <td>prior</td>\n",
       "      <td>1</td>\n",
       "      <td>2</td>\n",
       "      <td>11</td>\n",
       "      <td>NaN</td>\n",
       "      <td>32792</td>\n",
       "      <td>1</td>\n",
       "      <td>0</td>\n",
       "      <td>0.0</td>\n",
       "    </tr>\n",
       "    <tr>\n",
       "      <th>1</th>\n",
       "      <td>2168274</td>\n",
       "      <td>2</td>\n",
       "      <td>prior</td>\n",
       "      <td>1</td>\n",
       "      <td>2</td>\n",
       "      <td>11</td>\n",
       "      <td>NaN</td>\n",
       "      <td>47766</td>\n",
       "      <td>2</td>\n",
       "      <td>0</td>\n",
       "      <td>0.0</td>\n",
       "    </tr>\n",
       "    <tr>\n",
       "      <th>2</th>\n",
       "      <td>2168274</td>\n",
       "      <td>2</td>\n",
       "      <td>prior</td>\n",
       "      <td>1</td>\n",
       "      <td>2</td>\n",
       "      <td>11</td>\n",
       "      <td>NaN</td>\n",
       "      <td>20574</td>\n",
       "      <td>3</td>\n",
       "      <td>0</td>\n",
       "      <td>0.0</td>\n",
       "    </tr>\n",
       "    <tr>\n",
       "      <th>3</th>\n",
       "      <td>2168274</td>\n",
       "      <td>2</td>\n",
       "      <td>prior</td>\n",
       "      <td>1</td>\n",
       "      <td>2</td>\n",
       "      <td>11</td>\n",
       "      <td>NaN</td>\n",
       "      <td>12000</td>\n",
       "      <td>4</td>\n",
       "      <td>0</td>\n",
       "      <td>0.0</td>\n",
       "    </tr>\n",
       "    <tr>\n",
       "      <th>4</th>\n",
       "      <td>2168274</td>\n",
       "      <td>2</td>\n",
       "      <td>prior</td>\n",
       "      <td>1</td>\n",
       "      <td>2</td>\n",
       "      <td>11</td>\n",
       "      <td>NaN</td>\n",
       "      <td>48110</td>\n",
       "      <td>5</td>\n",
       "      <td>0</td>\n",
       "      <td>0.0</td>\n",
       "    </tr>\n",
       "  </tbody>\n",
       "</table>\n",
       "</div>"
      ],
      "text/plain": [
       "   order_id  user_id eval_set  order_number  order_dow  order_hour_of_day  \\\n",
       "0   2168274        2    prior             1          2                 11   \n",
       "1   2168274        2    prior             1          2                 11   \n",
       "2   2168274        2    prior             1          2                 11   \n",
       "3   2168274        2    prior             1          2                 11   \n",
       "4   2168274        2    prior             1          2                 11   \n",
       "\n",
       "   days_since_prior_order  product_id  add_to_cart_order  reordered  cum_days  \n",
       "0                     NaN       32792                  1          0       0.0  \n",
       "1                     NaN       47766                  2          0       0.0  \n",
       "2                     NaN       20574                  3          0       0.0  \n",
       "3                     NaN       12000                  4          0       0.0  \n",
       "4                     NaN       48110                  5          0       0.0  "
      ]
     },
     "execution_count": 188,
     "metadata": {},
     "output_type": "execute_result"
    }
   ],
   "source": [
    "order_map = order_days.groupby('order_number').cum_days.mean().to_dict()\n",
    "orders_train['cum_days'] = orders_train.order_number.map(order_map)\n",
    "orders_train.head()"
   ]
  },
  {
   "cell_type": "markdown",
   "metadata": {},
   "source": [
    "Calculate recency of each product by first finding out the last time it was ordered and then subracting it from the latest order days. COnvert recency days into recency weeks"
   ]
  },
  {
   "cell_type": "code",
   "execution_count": 189,
   "metadata": {
    "collapsed": true
   },
   "outputs": [],
   "source": [
    "recency_map = orders_train.groupby('product_id').cum_days.max().to_dict()\n",
    "orders_train['recency'] = (orders_train.cum_days.max() - orders_train.product_id.map(recency_map)) / 7"
   ]
  },
  {
   "cell_type": "markdown",
   "metadata": {},
   "source": [
    "Calculate frequencies of all products and then normalize by dividing frquency by total number of orders for the user"
   ]
  },
  {
   "cell_type": "code",
   "execution_count": 190,
   "metadata": {
    "collapsed": true
   },
   "outputs": [],
   "source": [
    "frequency_map = orders_train['product_id'].value_counts().to_dict()\n",
    "orders_train['frequency'] = orders_train.product_id.map(frequency_map) / orders_train.order_number.max()"
   ]
  },
  {
   "cell_type": "markdown",
   "metadata": {},
   "source": [
    "Find average cart order for each product and normalize by dividing by average number of products in "
   ]
  },
  {
   "cell_type": "code",
   "execution_count": 191,
   "metadata": {
    "collapsed": true
   },
   "outputs": [],
   "source": [
    "cart_order_map = orders_train.groupby('product_id').add_to_cart_order.mean().to_dict()\n",
    "orders_train['cart_order'] = orders_train.product_id.map(cart_order_map) / \\\n",
    "                             orders_train.groupby('order_number').order_number.value_counts().mean()"
   ]
  },
  {
   "cell_type": "code",
   "execution_count": 192,
   "metadata": {
    "collapsed": true
   },
   "outputs": [],
   "source": [
    "orders_train = orders_train[['product_id','recency','frequency','cart_order']].copy()\n",
    "orders_train = orders_train.drop_duplicates()"
   ]
  },
  {
   "cell_type": "code",
   "execution_count": 193,
   "metadata": {},
   "outputs": [
    {
     "data": {
      "text/html": [
       "<div>\n",
       "<style>\n",
       "    .dataframe thead tr:only-child th {\n",
       "        text-align: right;\n",
       "    }\n",
       "\n",
       "    .dataframe thead th {\n",
       "        text-align: left;\n",
       "    }\n",
       "\n",
       "    .dataframe tbody tr th {\n",
       "        vertical-align: top;\n",
       "    }\n",
       "</style>\n",
       "<table border=\"1\" class=\"dataframe\">\n",
       "  <thead>\n",
       "    <tr style=\"text-align: right;\">\n",
       "      <th></th>\n",
       "      <th>recency</th>\n",
       "      <th>frequency</th>\n",
       "      <th>cart_order</th>\n",
       "      <th>buy</th>\n",
       "    </tr>\n",
       "  </thead>\n",
       "  <tbody>\n",
       "    <tr>\n",
       "      <th>0</th>\n",
       "      <td>6.142857</td>\n",
       "      <td>0.642857</td>\n",
       "      <td>0.087749</td>\n",
       "      <td>1.0</td>\n",
       "    </tr>\n",
       "    <tr>\n",
       "      <th>1</th>\n",
       "      <td>24.142857</td>\n",
       "      <td>0.285714</td>\n",
       "      <td>0.358974</td>\n",
       "      <td>0.0</td>\n",
       "    </tr>\n",
       "    <tr>\n",
       "      <th>2</th>\n",
       "      <td>26.428571</td>\n",
       "      <td>0.142857</td>\n",
       "      <td>0.215385</td>\n",
       "      <td>0.0</td>\n",
       "    </tr>\n",
       "    <tr>\n",
       "      <th>3</th>\n",
       "      <td>14.428571</td>\n",
       "      <td>0.357143</td>\n",
       "      <td>0.186667</td>\n",
       "      <td>0.0</td>\n",
       "    </tr>\n",
       "    <tr>\n",
       "      <th>4</th>\n",
       "      <td>16.428571</td>\n",
       "      <td>0.142857</td>\n",
       "      <td>0.358974</td>\n",
       "      <td>0.0</td>\n",
       "    </tr>\n",
       "  </tbody>\n",
       "</table>\n",
       "</div>"
      ],
      "text/plain": [
       "     recency  frequency  cart_order  buy\n",
       "0   6.142857   0.642857    0.087749  1.0\n",
       "1  24.142857   0.285714    0.358974  0.0\n",
       "2  26.428571   0.142857    0.215385  0.0\n",
       "3  14.428571   0.357143    0.186667  0.0\n",
       "4  16.428571   0.142857    0.358974  0.0"
      ]
     },
     "execution_count": 193,
     "metadata": {},
     "output_type": "execute_result"
    }
   ],
   "source": [
    "orders_test['buy'] = 1\n",
    "orders_test = orders_test[['product_id','buy']]\n",
    "df = pd.merge(orders_train,orders_test,'left',on='product_id')\n",
    "df.update(df[['buy']].fillna(0))\n",
    "df = df.drop(['product_id'], axis = 1)\n",
    "df.head()"
   ]
  },
  {
   "cell_type": "code",
   "execution_count": 194,
   "metadata": {},
   "outputs": [
    {
     "data": {
      "text/html": [
       "<div>\n",
       "<style>\n",
       "    .dataframe thead tr:only-child th {\n",
       "        text-align: right;\n",
       "    }\n",
       "\n",
       "    .dataframe thead th {\n",
       "        text-align: left;\n",
       "    }\n",
       "\n",
       "    .dataframe tbody tr th {\n",
       "        vertical-align: top;\n",
       "    }\n",
       "</style>\n",
       "<table border=\"1\" class=\"dataframe\">\n",
       "  <thead>\n",
       "    <tr style=\"text-align: right;\">\n",
       "      <th></th>\n",
       "      <th>recency</th>\n",
       "      <th>frequency</th>\n",
       "      <th>cart_order</th>\n",
       "      <th>buy</th>\n",
       "    </tr>\n",
       "  </thead>\n",
       "  <tbody>\n",
       "    <tr>\n",
       "      <th>recency</th>\n",
       "      <td>1.000000</td>\n",
       "      <td>-0.337522</td>\n",
       "      <td>-0.037655</td>\n",
       "      <td>-0.146146</td>\n",
       "    </tr>\n",
       "    <tr>\n",
       "      <th>frequency</th>\n",
       "      <td>-0.337522</td>\n",
       "      <td>1.000000</td>\n",
       "      <td>-0.220448</td>\n",
       "      <td>0.222986</td>\n",
       "    </tr>\n",
       "    <tr>\n",
       "      <th>cart_order</th>\n",
       "      <td>-0.037655</td>\n",
       "      <td>-0.220448</td>\n",
       "      <td>1.000000</td>\n",
       "      <td>0.221162</td>\n",
       "    </tr>\n",
       "    <tr>\n",
       "      <th>buy</th>\n",
       "      <td>-0.146146</td>\n",
       "      <td>0.222986</td>\n",
       "      <td>0.221162</td>\n",
       "      <td>1.000000</td>\n",
       "    </tr>\n",
       "  </tbody>\n",
       "</table>\n",
       "</div>"
      ],
      "text/plain": [
       "             recency  frequency  cart_order       buy\n",
       "recency     1.000000  -0.337522   -0.037655 -0.146146\n",
       "frequency  -0.337522   1.000000   -0.220448  0.222986\n",
       "cart_order -0.037655  -0.220448    1.000000  0.221162\n",
       "buy        -0.146146   0.222986    0.221162  1.000000"
      ]
     },
     "execution_count": 194,
     "metadata": {},
     "output_type": "execute_result"
    }
   ],
   "source": [
    "df.corr()"
   ]
  },
  {
   "cell_type": "markdown",
   "metadata": {},
   "source": [
    "Check the class distribution"
   ]
  },
  {
   "cell_type": "code",
   "execution_count": 195,
   "metadata": {},
   "outputs": [
    {
     "data": {
      "text/plain": [
       "0.0    90\n",
       "1.0    12\n",
       "Name: buy, dtype: int64"
      ]
     },
     "execution_count": 195,
     "metadata": {},
     "output_type": "execute_result"
    }
   ],
   "source": [
    "df.buy.value_counts()"
   ]
  },
  {
   "cell_type": "markdown",
   "metadata": {},
   "source": [
    "Simple NaiveBayes"
   ]
  },
  {
   "cell_type": "code",
   "execution_count": 196,
   "metadata": {},
   "outputs": [
    {
     "name": "stdout",
     "output_type": "stream",
     "text": [
      "0.838709677419\n",
      "0.464285714286\n"
     ]
    }
   ],
   "source": [
    "features = ['recency','frequency','cart_order']\n",
    "X = df[features].copy()\n",
    "y = df['buy'].copy()\n",
    "X_train, X_test, y_train, y_test = train_test_split(X, y, test_size=0.30, random_state=324)\n",
    "clf = GaussianNB()\n",
    "clf.fit(X_train, y_train)\n",
    "predictions = clf.predict(X_test)\n",
    "print(accuracy_score(y_true = y_test, y_pred = predictions))\n",
    "print(roc_auc_score(y_test,predictions))"
   ]
  },
  {
   "cell_type": "markdown",
   "metadata": {},
   "source": [
    "Not very good. Also, data is biased as we have more instance of not buy than buy. Let us check logistic regression"
   ]
  },
  {
   "cell_type": "code",
   "execution_count": 199,
   "metadata": {
    "collapsed": true
   },
   "outputs": [],
   "source": [
    "def run_logistic(df):\n",
    "    features = ['recency','frequency','cart_order']\n",
    "    X = df[features].copy()\n",
    "    y = df['buy'].copy()\n",
    "    X_train, X_test, y_train, y_test = train_test_split(X, y, test_size=0.30, random_state=324)\n",
    "    logreg = LogisticRegression()\n",
    "    logreg.fit(X_train, y_train)\n",
    "    predictions = logreg.predict(X_test)\n",
    "    y_proba = logreg.predict_proba(X_test)\n",
    "    print(accuracy_score(y_true = y_test, y_pred = predictions))\n",
    "    print(roc_auc_score(y_test,predictions))"
   ]
  },
  {
   "cell_type": "code",
   "execution_count": 200,
   "metadata": {},
   "outputs": [
    {
     "name": "stdout",
     "output_type": "stream",
     "text": [
      "0.903225806452\n",
      "0.5\n"
     ]
    }
   ],
   "source": [
    "run_logistic(df)"
   ]
  },
  {
   "cell_type": "markdown",
   "metadata": {},
   "source": [
    "As suspected, because of the biased class distribution, algorithm is predicting buys as no buys and still getting high accuracy score. Let us try logistic after standardizing table"
   ]
  },
  {
   "cell_type": "code",
   "execution_count": 201,
   "metadata": {
    "collapsed": true
   },
   "outputs": [],
   "source": [
    "def run_logistic_std(df):\n",
    "    features = ['recency','frequency','cart_order']\n",
    "    X = df[features].copy()\n",
    "    y = df['buy'].copy()\n",
    "    X_train, X_test, y_train, y_test = train_test_split(X, y, test_size=0.30, random_state=324)\n",
    "    sc = StandardScaler()\n",
    "    sc.fit(X_train)\n",
    "    X_train_std = sc.transform(X_train)\n",
    "    X_test_std = sc.transform(X_test)\n",
    "    logreg = LogisticRegression()\n",
    "    logreg.fit(X_train_std, y_train)\n",
    "    predictions = logreg.predict(X_test_std)\n",
    "    print(accuracy_score(y_true = y_test, y_pred = predictions))\n",
    "    print(roc_auc_score(y_test,predictions))"
   ]
  },
  {
   "cell_type": "code",
   "execution_count": 202,
   "metadata": {},
   "outputs": [
    {
     "name": "stdout",
     "output_type": "stream",
     "text": [
      "0.838709677419\n",
      "0.464285714286\n"
     ]
    }
   ],
   "source": [
    "run_logistic_std(df)"
   ]
  },
  {
   "cell_type": "markdown",
   "metadata": {},
   "source": [
    "Not any better. Let us check XGBoost "
   ]
  },
  {
   "cell_type": "code",
   "execution_count": 205,
   "metadata": {
    "collapsed": true
   },
   "outputs": [],
   "source": [
    "def run_xgb(df):\n",
    "    features = ['recency','frequency','cart_order']\n",
    "    X = df[features].copy()\n",
    "    y = df['buy'].copy()\n",
    "    X_train, X_test, y_train, y_test = train_test_split(X, y, test_size=0.30, random_state=324)\n",
    "    gbm = xgb.XGBClassifier(max_depth=6, n_estimators=400, learning_rate=0.001).fit(X_train, y_train)\n",
    "    predictions = gbm.predict(X_test)\n",
    "    y_proba = gbm.predict_proba(X_test)\n",
    "    print(accuracy_score(y_true = y_test, y_pred = predictions))\n",
    "    print(roc_auc_score(y_test,predictions))"
   ]
  },
  {
   "cell_type": "code",
   "execution_count": 206,
   "metadata": {},
   "outputs": [
    {
     "name": "stdout",
     "output_type": "stream",
     "text": [
      "0.903225806452\n",
      "0.5\n"
     ]
    }
   ],
   "source": [
    "run_xgb(df)"
   ]
  },
  {
   "cell_type": "markdown",
   "metadata": {},
   "source": [
    "Create a function to create the rfm table as above for user ids passed as list"
   ]
  },
  {
   "cell_type": "code",
   "execution_count": 207,
   "metadata": {
    "collapsed": true
   },
   "outputs": [],
   "source": [
    "def prepare_rfm(user_ids):\n",
    "    frames = []\n",
    "    for user_id in user_ids:\n",
    "#    from IPython.core.debugger import Tracer; Tracer()()\n",
    "        orders_train = data_train.loc[(data_train.user_id==user_id) & (data_train.eval_set=='prior'),:]\n",
    "        orders_train = pd.merge(orders_train,order_prior,'inner',on='order_id')\n",
    "        orders_test = data_train.loc[(data_train.user_id==user_id) & (data_train.eval_set=='train'),:]\n",
    "        orders_test = pd.merge(orders_test,order_train,'inner',on='order_id')\n",
    "        frequency_map = orders_train['product_id'].value_counts().to_dict()\n",
    "        order_days = orders_train[['order_number','days_since_prior_order']]\n",
    "        order_days = order_days.drop_duplicates()\n",
    "        order_days.update(order_days[['days_since_prior_order']].fillna(0))\n",
    "        order_days['cum_days'] = order_days['days_since_prior_order'].cumsum()\n",
    "        order_map = order_days.groupby('order_number').cum_days.mean().to_dict()\n",
    "        orders_train['cum_days'] = orders_train.order_number.map(order_map)\n",
    "        recency_map = orders_train.groupby('product_id').cum_days.max().to_dict()\n",
    "        orders_train['recency'] = (orders_train.cum_days.max() - orders_train.product_id.map(recency_map)) / 7\n",
    "        orders_train['frequency'] = orders_train.product_id.map(frequency_map) / orders_train.order_number.max()\n",
    "        cart_order_map = orders_train.groupby('product_id').add_to_cart_order.mean().to_dict()\n",
    "        orders_train['cart_order'] = orders_train.product_id.map(cart_order_map) / \\\n",
    "                                     orders_train.groupby('order_number').order_number.value_counts().mean()\n",
    "        orders_train = orders_train[['product_id','recency','frequency','cart_order']].copy()\n",
    "        orders_train = orders_train.drop_duplicates()\n",
    "        orders_test['buy'] = 1\n",
    "        orders_test = orders_test[['product_id','buy']]\n",
    "        orders_comb = pd.merge(orders_train,orders_test,'left',on='product_id')\n",
    "        orders_comb.update(orders_comb[['buy']].fillna(0))\n",
    "        orders_comb = orders_comb.drop(['product_id'], axis = 1)\n",
    "        frames.append(orders_comb)\n",
    "    df = pd.concat(frames)    \n",
    "    return df"
   ]
  },
  {
   "cell_type": "markdown",
   "metadata": {},
   "source": [
    "Select some random users and re-try "
   ]
  },
  {
   "cell_type": "code",
   "execution_count": 157,
   "metadata": {},
   "outputs": [
    {
     "data": {
      "text/plain": [
       "0.0    83353\n",
       "1.0     7565\n",
       "Name: buy, dtype: int64"
      ]
     },
     "execution_count": 157,
     "metadata": {},
     "output_type": "execute_result"
    }
   ],
   "source": [
    "users_train = data_train['user_id'].unique()\n",
    "user_ids = list(np.random.choice(users_train, 1000))\n",
    "df = prepare_rfm(user_ids)\n",
    "df.buy.value_counts()"
   ]
  },
  {
   "cell_type": "markdown",
   "metadata": {},
   "source": [
    "Used 1000 random users and saved on the disk for later retrieval"
   ]
  },
  {
   "cell_type": "code",
   "execution_count": 208,
   "metadata": {
    "collapsed": true
   },
   "outputs": [],
   "source": [
    "#with open('df.pickle', 'wb') as f:\n",
    "    # Pickle the 'data' dictionary using the highest protocol available.\n",
    "#    pickle.dump(df, f, pickle.HIGHEST_PROTOCOL)\n",
    "\n",
    "with open('df.pickle', 'rb') as f:\n",
    "    # The protocol version used is detected automatically, so we do not\n",
    "    # have to specify it.\n",
    "    df = pickle.load(f)"
   ]
  },
  {
   "cell_type": "markdown",
   "metadata": {},
   "source": [
    "Build the final model to make the predictions on the test set. Since the dataset is biassed on class, we will use class weight parameter to force it to predict the rare class. Using class weight of 0.12 for class 0 give accuracy of 83% and ROC area 0.75 which is a fair model."
   ]
  },
  {
   "cell_type": "code",
   "execution_count": 265,
   "metadata": {},
   "outputs": [
    {
     "name": "stdout",
     "output_type": "stream",
     "text": [
      "0.82916849978\n",
      "0.747646906609\n"
     ]
    }
   ],
   "source": [
    "features = ['recency','frequency','cart_order']\n",
    "X = df[features].copy()\n",
    "y = df['buy'].copy()\n",
    "X_train, X_test, y_train, y_test = train_test_split(X, y, test_size=0.25, random_state=10)\n",
    "logreg = LogisticRegression(class_weight={0:0.12})\n",
    "#logreg = LogisticRegression()\n",
    "logreg.fit(X_train, y_train)\n",
    "predictions = logreg.predict(X_test)\n",
    "y_proba = logreg.predict_proba(X_test)\n",
    "#predictions = (y_proba[:,1]  > 0.125).astype(int)\n",
    "print(accuracy_score(y_true = y_test, y_pred = predictions))\n",
    "print(roc_auc_score(y_test,predictions))"
   ]
  },
  {
   "cell_type": "markdown",
   "metadata": {
    "collapsed": true
   },
   "source": [
    "Using the logic in prepare rfm function above, I built a df_predict dataframe for user id 3. "
   ]
  },
  {
   "cell_type": "code",
   "execution_count": 275,
   "metadata": {},
   "outputs": [
    {
     "data": {
      "text/html": [
       "<div>\n",
       "<style>\n",
       "    .dataframe thead tr:only-child th {\n",
       "        text-align: right;\n",
       "    }\n",
       "\n",
       "    .dataframe thead th {\n",
       "        text-align: left;\n",
       "    }\n",
       "\n",
       "    .dataframe tbody tr th {\n",
       "        vertical-align: top;\n",
       "    }\n",
       "</style>\n",
       "<table border=\"1\" class=\"dataframe\">\n",
       "  <thead>\n",
       "    <tr style=\"text-align: right;\">\n",
       "      <th></th>\n",
       "      <th>product_id</th>\n",
       "      <th>recency</th>\n",
       "      <th>frequency</th>\n",
       "      <th>cart_order</th>\n",
       "    </tr>\n",
       "  </thead>\n",
       "  <tbody>\n",
       "    <tr>\n",
       "      <th>0</th>\n",
       "      <td>9387</td>\n",
       "      <td>8.142857</td>\n",
       "      <td>0.416667</td>\n",
       "      <td>0.490909</td>\n",
       "    </tr>\n",
       "    <tr>\n",
       "      <th>1</th>\n",
       "      <td>17668</td>\n",
       "      <td>2.142857</td>\n",
       "      <td>0.416667</td>\n",
       "      <td>0.490909</td>\n",
       "    </tr>\n",
       "    <tr>\n",
       "      <th>2</th>\n",
       "      <td>15143</td>\n",
       "      <td>19.000000</td>\n",
       "      <td>0.083333</td>\n",
       "      <td>0.409091</td>\n",
       "    </tr>\n",
       "    <tr>\n",
       "      <th>3</th>\n",
       "      <td>16797</td>\n",
       "      <td>6.142857</td>\n",
       "      <td>0.250000</td>\n",
       "      <td>0.545455</td>\n",
       "    </tr>\n",
       "    <tr>\n",
       "      <th>4</th>\n",
       "      <td>39190</td>\n",
       "      <td>0.000000</td>\n",
       "      <td>0.833333</td>\n",
       "      <td>0.245455</td>\n",
       "    </tr>\n",
       "    <tr>\n",
       "      <th>5</th>\n",
       "      <td>47766</td>\n",
       "      <td>0.000000</td>\n",
       "      <td>0.750000</td>\n",
       "      <td>0.515152</td>\n",
       "    </tr>\n",
       "    <tr>\n",
       "      <th>6</th>\n",
       "      <td>21903</td>\n",
       "      <td>0.000000</td>\n",
       "      <td>0.666667</td>\n",
       "      <td>0.579545</td>\n",
       "    </tr>\n",
       "    <tr>\n",
       "      <th>7</th>\n",
       "      <td>39922</td>\n",
       "      <td>19.000000</td>\n",
       "      <td>0.083333</td>\n",
       "      <td>1.090909</td>\n",
       "    </tr>\n",
       "    <tr>\n",
       "      <th>8</th>\n",
       "      <td>24810</td>\n",
       "      <td>0.000000</td>\n",
       "      <td>0.250000</td>\n",
       "      <td>0.954545</td>\n",
       "    </tr>\n",
       "    <tr>\n",
       "      <th>9</th>\n",
       "      <td>32402</td>\n",
       "      <td>3.714286</td>\n",
       "      <td>0.250000</td>\n",
       "      <td>1.136364</td>\n",
       "    </tr>\n",
       "    <tr>\n",
       "      <th>10</th>\n",
       "      <td>38596</td>\n",
       "      <td>17.714286</td>\n",
       "      <td>0.083333</td>\n",
       "      <td>0.136364</td>\n",
       "    </tr>\n",
       "    <tr>\n",
       "      <th>12</th>\n",
       "      <td>248</td>\n",
       "      <td>17.714286</td>\n",
       "      <td>0.083333</td>\n",
       "      <td>0.409091</td>\n",
       "    </tr>\n",
       "    <tr>\n",
       "      <th>13</th>\n",
       "      <td>40604</td>\n",
       "      <td>17.714286</td>\n",
       "      <td>0.083333</td>\n",
       "      <td>0.545455</td>\n",
       "    </tr>\n",
       "    <tr>\n",
       "      <th>14</th>\n",
       "      <td>8021</td>\n",
       "      <td>17.714286</td>\n",
       "      <td>0.083333</td>\n",
       "      <td>0.681818</td>\n",
       "    </tr>\n",
       "    <tr>\n",
       "      <th>16</th>\n",
       "      <td>21137</td>\n",
       "      <td>17.714286</td>\n",
       "      <td>0.083333</td>\n",
       "      <td>0.954545</td>\n",
       "    </tr>\n",
       "    <tr>\n",
       "      <th>17</th>\n",
       "      <td>23650</td>\n",
       "      <td>0.000000</td>\n",
       "      <td>0.166667</td>\n",
       "      <td>0.750000</td>\n",
       "    </tr>\n",
       "    <tr>\n",
       "      <th>22</th>\n",
       "      <td>49683</td>\n",
       "      <td>14.714286</td>\n",
       "      <td>0.083333</td>\n",
       "      <td>0.545455</td>\n",
       "    </tr>\n",
       "    <tr>\n",
       "      <th>23</th>\n",
       "      <td>28373</td>\n",
       "      <td>10.142857</td>\n",
       "      <td>0.166667</td>\n",
       "      <td>0.750000</td>\n",
       "    </tr>\n",
       "    <tr>\n",
       "      <th>24</th>\n",
       "      <td>7503</td>\n",
       "      <td>14.714286</td>\n",
       "      <td>0.083333</td>\n",
       "      <td>0.818182</td>\n",
       "    </tr>\n",
       "    <tr>\n",
       "      <th>25</th>\n",
       "      <td>1819</td>\n",
       "      <td>8.142857</td>\n",
       "      <td>0.250000</td>\n",
       "      <td>0.363636</td>\n",
       "    </tr>\n",
       "    <tr>\n",
       "      <th>26</th>\n",
       "      <td>12845</td>\n",
       "      <td>11.857143</td>\n",
       "      <td>0.083333</td>\n",
       "      <td>0.272727</td>\n",
       "    </tr>\n",
       "    <tr>\n",
       "      <th>28</th>\n",
       "      <td>16965</td>\n",
       "      <td>10.142857</td>\n",
       "      <td>0.166667</td>\n",
       "      <td>0.613636</td>\n",
       "    </tr>\n",
       "    <tr>\n",
       "      <th>29</th>\n",
       "      <td>24010</td>\n",
       "      <td>8.142857</td>\n",
       "      <td>0.166667</td>\n",
       "      <td>0.750000</td>\n",
       "    </tr>\n",
       "    <tr>\n",
       "      <th>37</th>\n",
       "      <td>22035</td>\n",
       "      <td>7.142857</td>\n",
       "      <td>0.250000</td>\n",
       "      <td>0.500000</td>\n",
       "    </tr>\n",
       "    <tr>\n",
       "      <th>38</th>\n",
       "      <td>42265</td>\n",
       "      <td>10.142857</td>\n",
       "      <td>0.083333</td>\n",
       "      <td>1.227273</td>\n",
       "    </tr>\n",
       "    <tr>\n",
       "      <th>39</th>\n",
       "      <td>18370</td>\n",
       "      <td>10.142857</td>\n",
       "      <td>0.083333</td>\n",
       "      <td>1.363636</td>\n",
       "    </tr>\n",
       "    <tr>\n",
       "      <th>40</th>\n",
       "      <td>44683</td>\n",
       "      <td>9.142857</td>\n",
       "      <td>0.166667</td>\n",
       "      <td>1.295455</td>\n",
       "    </tr>\n",
       "    <tr>\n",
       "      <th>47</th>\n",
       "      <td>14992</td>\n",
       "      <td>8.142857</td>\n",
       "      <td>0.166667</td>\n",
       "      <td>0.954545</td>\n",
       "    </tr>\n",
       "    <tr>\n",
       "      <th>52</th>\n",
       "      <td>43961</td>\n",
       "      <td>2.142857</td>\n",
       "      <td>0.333333</td>\n",
       "      <td>0.511364</td>\n",
       "    </tr>\n",
       "    <tr>\n",
       "      <th>56</th>\n",
       "      <td>18599</td>\n",
       "      <td>0.000000</td>\n",
       "      <td>0.333333</td>\n",
       "      <td>0.511364</td>\n",
       "    </tr>\n",
       "    <tr>\n",
       "      <th>64</th>\n",
       "      <td>42557</td>\n",
       "      <td>7.142857</td>\n",
       "      <td>0.083333</td>\n",
       "      <td>0.954545</td>\n",
       "    </tr>\n",
       "    <tr>\n",
       "      <th>65</th>\n",
       "      <td>48523</td>\n",
       "      <td>6.142857</td>\n",
       "      <td>0.166667</td>\n",
       "      <td>0.886364</td>\n",
       "    </tr>\n",
       "    <tr>\n",
       "      <th>75</th>\n",
       "      <td>1005</td>\n",
       "      <td>3.714286</td>\n",
       "      <td>0.083333</td>\n",
       "      <td>0.681818</td>\n",
       "    </tr>\n",
       "  </tbody>\n",
       "</table>\n",
       "</div>"
      ],
      "text/plain": [
       "    product_id    recency  frequency  cart_order\n",
       "0         9387   8.142857   0.416667    0.490909\n",
       "1        17668   2.142857   0.416667    0.490909\n",
       "2        15143  19.000000   0.083333    0.409091\n",
       "3        16797   6.142857   0.250000    0.545455\n",
       "4        39190   0.000000   0.833333    0.245455\n",
       "5        47766   0.000000   0.750000    0.515152\n",
       "6        21903   0.000000   0.666667    0.579545\n",
       "7        39922  19.000000   0.083333    1.090909\n",
       "8        24810   0.000000   0.250000    0.954545\n",
       "9        32402   3.714286   0.250000    1.136364\n",
       "10       38596  17.714286   0.083333    0.136364\n",
       "12         248  17.714286   0.083333    0.409091\n",
       "13       40604  17.714286   0.083333    0.545455\n",
       "14        8021  17.714286   0.083333    0.681818\n",
       "16       21137  17.714286   0.083333    0.954545\n",
       "17       23650   0.000000   0.166667    0.750000\n",
       "22       49683  14.714286   0.083333    0.545455\n",
       "23       28373  10.142857   0.166667    0.750000\n",
       "24        7503  14.714286   0.083333    0.818182\n",
       "25        1819   8.142857   0.250000    0.363636\n",
       "26       12845  11.857143   0.083333    0.272727\n",
       "28       16965  10.142857   0.166667    0.613636\n",
       "29       24010   8.142857   0.166667    0.750000\n",
       "37       22035   7.142857   0.250000    0.500000\n",
       "38       42265  10.142857   0.083333    1.227273\n",
       "39       18370  10.142857   0.083333    1.363636\n",
       "40       44683   9.142857   0.166667    1.295455\n",
       "47       14992   8.142857   0.166667    0.954545\n",
       "52       43961   2.142857   0.333333    0.511364\n",
       "56       18599   0.000000   0.333333    0.511364\n",
       "64       42557   7.142857   0.083333    0.954545\n",
       "65       48523   6.142857   0.166667    0.886364\n",
       "75        1005   3.714286   0.083333    0.681818"
      ]
     },
     "execution_count": 275,
     "metadata": {},
     "output_type": "execute_result"
    }
   ],
   "source": [
    "df_predict"
   ]
  },
  {
   "cell_type": "code",
   "execution_count": 305,
   "metadata": {},
   "outputs": [
    {
     "data": {
      "text/html": [
       "<div>\n",
       "<style>\n",
       "    .dataframe thead tr:only-child th {\n",
       "        text-align: right;\n",
       "    }\n",
       "\n",
       "    .dataframe thead th {\n",
       "        text-align: left;\n",
       "    }\n",
       "\n",
       "    .dataframe tbody tr th {\n",
       "        vertical-align: top;\n",
       "    }\n",
       "</style>\n",
       "<table border=\"1\" class=\"dataframe\">\n",
       "  <thead>\n",
       "    <tr style=\"text-align: right;\">\n",
       "      <th></th>\n",
       "      <th>probability</th>\n",
       "      <th>product_id</th>\n",
       "    </tr>\n",
       "  </thead>\n",
       "  <tbody>\n",
       "    <tr>\n",
       "      <th>4</th>\n",
       "      <td>0.972146</td>\n",
       "      <td>39190</td>\n",
       "    </tr>\n",
       "    <tr>\n",
       "      <th>5</th>\n",
       "      <td>0.958292</td>\n",
       "      <td>47766</td>\n",
       "    </tr>\n",
       "    <tr>\n",
       "      <th>6</th>\n",
       "      <td>0.939242</td>\n",
       "      <td>21903</td>\n",
       "    </tr>\n",
       "    <tr>\n",
       "      <th>1</th>\n",
       "      <td>0.805858</td>\n",
       "      <td>17668</td>\n",
       "    </tr>\n",
       "    <tr>\n",
       "      <th>56</th>\n",
       "      <td>0.766322</td>\n",
       "      <td>18599</td>\n",
       "    </tr>\n",
       "    <tr>\n",
       "      <th>52</th>\n",
       "      <td>0.737246</td>\n",
       "      <td>43961</td>\n",
       "    </tr>\n",
       "    <tr>\n",
       "      <th>0</th>\n",
       "      <td>0.728426</td>\n",
       "      <td>9387</td>\n",
       "    </tr>\n",
       "    <tr>\n",
       "      <th>8</th>\n",
       "      <td>0.679432</td>\n",
       "      <td>24810</td>\n",
       "    </tr>\n",
       "    <tr>\n",
       "      <th>9</th>\n",
       "      <td>0.613380</td>\n",
       "      <td>32402</td>\n",
       "    </tr>\n",
       "    <tr>\n",
       "      <th>17</th>\n",
       "      <td>0.594702</td>\n",
       "      <td>23650</td>\n",
       "    </tr>\n",
       "    <tr>\n",
       "      <th>3</th>\n",
       "      <td>0.586020</td>\n",
       "      <td>16797</td>\n",
       "    </tr>\n",
       "    <tr>\n",
       "      <th>37</th>\n",
       "      <td>0.569444</td>\n",
       "      <td>22035</td>\n",
       "    </tr>\n",
       "    <tr>\n",
       "      <th>25</th>\n",
       "      <td>0.555097</td>\n",
       "      <td>1819</td>\n",
       "    </tr>\n",
       "  </tbody>\n",
       "</table>\n",
       "</div>"
      ],
      "text/plain": [
       "    probability  product_id\n",
       "4      0.972146       39190\n",
       "5      0.958292       47766\n",
       "6      0.939242       21903\n",
       "1      0.805858       17668\n",
       "56     0.766322       18599\n",
       "52     0.737246       43961\n",
       "0      0.728426        9387\n",
       "8      0.679432       24810\n",
       "9      0.613380       32402\n",
       "17     0.594702       23650\n",
       "3      0.586020       16797\n",
       "37     0.569444       22035\n",
       "25     0.555097        1819"
      ]
     },
     "execution_count": 305,
     "metadata": {},
     "output_type": "execute_result"
    }
   ],
   "source": [
    "df_pred = pd.DataFrame({\"product_id\":df_predict['product_id'],\"probability\":y_proba[:,1]})\n",
    "df_pred = df_pred[df_pred.probability >= 0.5]\n",
    "df_pred = df_pred.sort_values([\"probability\"], ascending = False)\n",
    "df_pred"
   ]
  },
  {
   "cell_type": "code",
   "execution_count": 348,
   "metadata": {},
   "outputs": [
    {
     "data": {
      "text/plain": [
       "'2774568'"
      ]
     },
     "execution_count": 348,
     "metadata": {},
     "output_type": "execute_result"
    }
   ],
   "source": [
    "text = orders_test['order_id'].values\n",
    "ord = \" \".join(str(x) for x in text)\n",
    "ord"
   ]
  },
  {
   "cell_type": "code",
   "execution_count": 342,
   "metadata": {},
   "outputs": [
    {
     "data": {
      "text/plain": [
       "'39190 47766 21903 17668 18599 43961 9387 24810 32402 23650 16797 22035 1819'"
      ]
     },
     "execution_count": 342,
     "metadata": {},
     "output_type": "execute_result"
    }
   ],
   "source": [
    "prods = \" \".join(str(x) for x in df_pred['product_id'].values)\n",
    "prods"
   ]
  },
  {
   "cell_type": "code",
   "execution_count": 349,
   "metadata": {},
   "outputs": [
    {
     "data": {
      "text/plain": [
       "'2774568, 39190 47766 21903 17668 18599 43961 9387 24810 32402 23650 16797 22035 1819'"
      ]
     },
     "execution_count": 349,
     "metadata": {},
     "output_type": "execute_result"
    }
   ],
   "source": [
    "final = ord + \", \" + prods\n",
    "final"
   ]
  },
  {
   "cell_type": "markdown",
   "metadata": {},
   "source": [
    "We have code ready to create submission file for all the users in the test set."
   ]
  },
  {
   "cell_type": "code",
   "execution_count": 389,
   "metadata": {},
   "outputs": [
    {
     "ename": "KeyboardInterrupt",
     "evalue": "",
     "output_type": "error",
     "traceback": [
      "\u001b[1;31m---------------------------------------------------------------------------\u001b[0m",
      "\u001b[1;31mKeyboardInterrupt\u001b[0m                         Traceback (most recent call last)",
      "\u001b[1;32m<ipython-input-389-66751bf9d1ae>\u001b[0m in \u001b[0;36m<module>\u001b[1;34m()\u001b[0m\n\u001b[0;32m      2\u001b[0m \u001b[1;32mfor\u001b[0m \u001b[0mindex\u001b[0m\u001b[1;33m,\u001b[0m \u001b[0mrow\u001b[0m \u001b[1;32min\u001b[0m \u001b[0morders_test\u001b[0m\u001b[1;33m.\u001b[0m\u001b[0miterrows\u001b[0m\u001b[1;33m(\u001b[0m\u001b[1;33m)\u001b[0m\u001b[1;33m:\u001b[0m\u001b[1;33m\u001b[0m\u001b[0m\n\u001b[0;32m      3\u001b[0m     \u001b[0morders_predict\u001b[0m \u001b[1;33m=\u001b[0m \u001b[0mdata_predict\u001b[0m\u001b[1;33m.\u001b[0m\u001b[0mloc\u001b[0m\u001b[1;33m[\u001b[0m\u001b[1;33m(\u001b[0m\u001b[0mdata_predict\u001b[0m\u001b[1;33m.\u001b[0m\u001b[0muser_id\u001b[0m\u001b[1;33m==\u001b[0m\u001b[0mrow\u001b[0m\u001b[1;33m.\u001b[0m\u001b[0muser_id\u001b[0m\u001b[1;33m)\u001b[0m \u001b[1;33m&\u001b[0m \u001b[1;33m(\u001b[0m\u001b[0mdata_predict\u001b[0m\u001b[1;33m.\u001b[0m\u001b[0meval_set\u001b[0m\u001b[1;33m==\u001b[0m\u001b[1;34m'prior'\u001b[0m\u001b[1;33m)\u001b[0m\u001b[1;33m,\u001b[0m\u001b[1;33m:\u001b[0m\u001b[1;33m]\u001b[0m\u001b[1;33m\u001b[0m\u001b[0m\n\u001b[1;32m----> 4\u001b[1;33m     \u001b[0morders_predict\u001b[0m \u001b[1;33m=\u001b[0m \u001b[0mpd\u001b[0m\u001b[1;33m.\u001b[0m\u001b[0mmerge\u001b[0m\u001b[1;33m(\u001b[0m\u001b[0morders_predict\u001b[0m\u001b[1;33m,\u001b[0m\u001b[0morder_prior\u001b[0m\u001b[1;33m,\u001b[0m\u001b[1;34m'inner'\u001b[0m\u001b[1;33m,\u001b[0m\u001b[0mon\u001b[0m\u001b[1;33m=\u001b[0m\u001b[1;34m'order_id'\u001b[0m\u001b[1;33m)\u001b[0m\u001b[1;33m\u001b[0m\u001b[0m\n\u001b[0m\u001b[0;32m      5\u001b[0m     \u001b[0mfrequency_map\u001b[0m \u001b[1;33m=\u001b[0m \u001b[0morders_predict\u001b[0m\u001b[1;33m[\u001b[0m\u001b[1;34m'product_id'\u001b[0m\u001b[1;33m]\u001b[0m\u001b[1;33m.\u001b[0m\u001b[0mvalue_counts\u001b[0m\u001b[1;33m(\u001b[0m\u001b[1;33m)\u001b[0m\u001b[1;33m.\u001b[0m\u001b[0mto_dict\u001b[0m\u001b[1;33m(\u001b[0m\u001b[1;33m)\u001b[0m\u001b[1;33m\u001b[0m\u001b[0m\n\u001b[0;32m      6\u001b[0m     \u001b[0morder_days\u001b[0m \u001b[1;33m=\u001b[0m \u001b[0morders_predict\u001b[0m\u001b[1;33m[\u001b[0m\u001b[1;33m[\u001b[0m\u001b[1;34m'order_number'\u001b[0m\u001b[1;33m,\u001b[0m\u001b[1;34m'days_since_prior_order'\u001b[0m\u001b[1;33m]\u001b[0m\u001b[1;33m]\u001b[0m\u001b[1;33m\u001b[0m\u001b[0m\n",
      "\u001b[1;32mC:\\Users\\Manoj\\Anaconda3\\lib\\site-packages\\pandas\\core\\reshape\\merge.py\u001b[0m in \u001b[0;36mmerge\u001b[1;34m(left, right, how, on, left_on, right_on, left_index, right_index, sort, suffixes, copy, indicator)\u001b[0m\n\u001b[0;32m     52\u001b[0m                          \u001b[0mright_index\u001b[0m\u001b[1;33m=\u001b[0m\u001b[0mright_index\u001b[0m\u001b[1;33m,\u001b[0m \u001b[0msort\u001b[0m\u001b[1;33m=\u001b[0m\u001b[0msort\u001b[0m\u001b[1;33m,\u001b[0m \u001b[0msuffixes\u001b[0m\u001b[1;33m=\u001b[0m\u001b[0msuffixes\u001b[0m\u001b[1;33m,\u001b[0m\u001b[1;33m\u001b[0m\u001b[0m\n\u001b[0;32m     53\u001b[0m                          copy=copy, indicator=indicator)\n\u001b[1;32m---> 54\u001b[1;33m     \u001b[1;32mreturn\u001b[0m \u001b[0mop\u001b[0m\u001b[1;33m.\u001b[0m\u001b[0mget_result\u001b[0m\u001b[1;33m(\u001b[0m\u001b[1;33m)\u001b[0m\u001b[1;33m\u001b[0m\u001b[0m\n\u001b[0m\u001b[0;32m     55\u001b[0m \u001b[1;33m\u001b[0m\u001b[0m\n\u001b[0;32m     56\u001b[0m \u001b[1;33m\u001b[0m\u001b[0m\n",
      "\u001b[1;32mC:\\Users\\Manoj\\Anaconda3\\lib\\site-packages\\pandas\\core\\reshape\\merge.py\u001b[0m in \u001b[0;36mget_result\u001b[1;34m(self)\u001b[0m\n\u001b[0;32m    567\u001b[0m                 self.left, self.right)\n\u001b[0;32m    568\u001b[0m \u001b[1;33m\u001b[0m\u001b[0m\n\u001b[1;32m--> 569\u001b[1;33m         \u001b[0mjoin_index\u001b[0m\u001b[1;33m,\u001b[0m \u001b[0mleft_indexer\u001b[0m\u001b[1;33m,\u001b[0m \u001b[0mright_indexer\u001b[0m \u001b[1;33m=\u001b[0m \u001b[0mself\u001b[0m\u001b[1;33m.\u001b[0m\u001b[0m_get_join_info\u001b[0m\u001b[1;33m(\u001b[0m\u001b[1;33m)\u001b[0m\u001b[1;33m\u001b[0m\u001b[0m\n\u001b[0m\u001b[0;32m    570\u001b[0m \u001b[1;33m\u001b[0m\u001b[0m\n\u001b[0;32m    571\u001b[0m         \u001b[0mldata\u001b[0m\u001b[1;33m,\u001b[0m \u001b[0mrdata\u001b[0m \u001b[1;33m=\u001b[0m \u001b[0mself\u001b[0m\u001b[1;33m.\u001b[0m\u001b[0mleft\u001b[0m\u001b[1;33m.\u001b[0m\u001b[0m_data\u001b[0m\u001b[1;33m,\u001b[0m \u001b[0mself\u001b[0m\u001b[1;33m.\u001b[0m\u001b[0mright\u001b[0m\u001b[1;33m.\u001b[0m\u001b[0m_data\u001b[0m\u001b[1;33m\u001b[0m\u001b[0m\n",
      "\u001b[1;32mC:\\Users\\Manoj\\Anaconda3\\lib\\site-packages\\pandas\\core\\reshape\\merge.py\u001b[0m in \u001b[0;36m_get_join_info\u001b[1;34m(self)\u001b[0m\n\u001b[0;32m    732\u001b[0m         \u001b[1;32melse\u001b[0m\u001b[1;33m:\u001b[0m\u001b[1;33m\u001b[0m\u001b[0m\n\u001b[0;32m    733\u001b[0m             (left_indexer,\n\u001b[1;32m--> 734\u001b[1;33m              right_indexer) = self._get_join_indexers()\n\u001b[0m\u001b[0;32m    735\u001b[0m \u001b[1;33m\u001b[0m\u001b[0m\n\u001b[0;32m    736\u001b[0m             \u001b[1;32mif\u001b[0m \u001b[0mself\u001b[0m\u001b[1;33m.\u001b[0m\u001b[0mright_index\u001b[0m\u001b[1;33m:\u001b[0m\u001b[1;33m\u001b[0m\u001b[0m\n",
      "\u001b[1;32mC:\\Users\\Manoj\\Anaconda3\\lib\\site-packages\\pandas\\core\\reshape\\merge.py\u001b[0m in \u001b[0;36m_get_join_indexers\u001b[1;34m(self)\u001b[0m\n\u001b[0;32m    711\u001b[0m                                   \u001b[0mself\u001b[0m\u001b[1;33m.\u001b[0m\u001b[0mright_join_keys\u001b[0m\u001b[1;33m,\u001b[0m\u001b[1;33m\u001b[0m\u001b[0m\n\u001b[0;32m    712\u001b[0m                                   \u001b[0msort\u001b[0m\u001b[1;33m=\u001b[0m\u001b[0mself\u001b[0m\u001b[1;33m.\u001b[0m\u001b[0msort\u001b[0m\u001b[1;33m,\u001b[0m\u001b[1;33m\u001b[0m\u001b[0m\n\u001b[1;32m--> 713\u001b[1;33m                                   how=self.how)\n\u001b[0m\u001b[0;32m    714\u001b[0m \u001b[1;33m\u001b[0m\u001b[0m\n\u001b[0;32m    715\u001b[0m     \u001b[1;32mdef\u001b[0m \u001b[0m_get_join_info\u001b[0m\u001b[1;33m(\u001b[0m\u001b[0mself\u001b[0m\u001b[1;33m)\u001b[0m\u001b[1;33m:\u001b[0m\u001b[1;33m\u001b[0m\u001b[0m\n",
      "\u001b[1;32mC:\\Users\\Manoj\\Anaconda3\\lib\\site-packages\\pandas\\core\\reshape\\merge.py\u001b[0m in \u001b[0;36m_get_join_indexers\u001b[1;34m(left_keys, right_keys, sort, how, **kwargs)\u001b[0m\n\u001b[0;32m    988\u001b[0m     \u001b[1;31m# `count` is the num. of unique keys\u001b[0m\u001b[1;33m\u001b[0m\u001b[1;33m\u001b[0m\u001b[0m\n\u001b[0;32m    989\u001b[0m     \u001b[1;31m# set(lkey) | set(rkey) == range(count)\u001b[0m\u001b[1;33m\u001b[0m\u001b[1;33m\u001b[0m\u001b[0m\n\u001b[1;32m--> 990\u001b[1;33m     \u001b[0mlkey\u001b[0m\u001b[1;33m,\u001b[0m \u001b[0mrkey\u001b[0m\u001b[1;33m,\u001b[0m \u001b[0mcount\u001b[0m \u001b[1;33m=\u001b[0m \u001b[0mfkeys\u001b[0m\u001b[1;33m(\u001b[0m\u001b[0mlkey\u001b[0m\u001b[1;33m,\u001b[0m \u001b[0mrkey\u001b[0m\u001b[1;33m)\u001b[0m\u001b[1;33m\u001b[0m\u001b[0m\n\u001b[0m\u001b[0;32m    991\u001b[0m \u001b[1;33m\u001b[0m\u001b[0m\n\u001b[0;32m    992\u001b[0m     \u001b[1;31m# preserve left frame order if how == 'left' and sort == False\u001b[0m\u001b[1;33m\u001b[0m\u001b[1;33m\u001b[0m\u001b[0m\n",
      "\u001b[1;32mC:\\Users\\Manoj\\Anaconda3\\lib\\site-packages\\pandas\\core\\reshape\\merge.py\u001b[0m in \u001b[0;36m_factorize_keys\u001b[1;34m(lk, rk, sort)\u001b[0m\n\u001b[0;32m   1403\u001b[0m \u001b[1;33m\u001b[0m\u001b[0m\n\u001b[0;32m   1404\u001b[0m     \u001b[0mllab\u001b[0m \u001b[1;33m=\u001b[0m \u001b[0mrizer\u001b[0m\u001b[1;33m.\u001b[0m\u001b[0mfactorize\u001b[0m\u001b[1;33m(\u001b[0m\u001b[0mlk\u001b[0m\u001b[1;33m)\u001b[0m\u001b[1;33m\u001b[0m\u001b[0m\n\u001b[1;32m-> 1405\u001b[1;33m     \u001b[0mrlab\u001b[0m \u001b[1;33m=\u001b[0m \u001b[0mrizer\u001b[0m\u001b[1;33m.\u001b[0m\u001b[0mfactorize\u001b[0m\u001b[1;33m(\u001b[0m\u001b[0mrk\u001b[0m\u001b[1;33m)\u001b[0m\u001b[1;33m\u001b[0m\u001b[0m\n\u001b[0m\u001b[0;32m   1406\u001b[0m \u001b[1;33m\u001b[0m\u001b[0m\n\u001b[0;32m   1407\u001b[0m     \u001b[0mcount\u001b[0m \u001b[1;33m=\u001b[0m \u001b[0mrizer\u001b[0m\u001b[1;33m.\u001b[0m\u001b[0mget_count\u001b[0m\u001b[1;33m(\u001b[0m\u001b[1;33m)\u001b[0m\u001b[1;33m\u001b[0m\u001b[0m\n",
      "\u001b[1;32mpandas\\_libs\\hashtable.pyx\u001b[0m in \u001b[0;36mpandas._libs.hashtable.Int64Factorizer.factorize (pandas\\_libs\\hashtable.c:34578)\u001b[1;34m()\u001b[0m\n",
      "\u001b[1;32mpandas\\_libs\\hashtable_class_helper.pxi\u001b[0m in \u001b[0;36mpandas._libs.hashtable.Int64HashTable.get_labels (pandas\\_libs\\hashtable.c:15606)\u001b[1;34m()\u001b[0m\n",
      "\u001b[1;32mC:\\Users\\Manoj\\Anaconda3\\lib\\site-packages\\numpy\\core\\numeric.py\u001b[0m in \u001b[0;36masarray\u001b[1;34m(a, dtype, order)\u001b[0m\n\u001b[0;32m    461\u001b[0m \u001b[1;33m\u001b[0m\u001b[0m\n\u001b[0;32m    462\u001b[0m \u001b[1;33m\u001b[0m\u001b[0m\n\u001b[1;32m--> 463\u001b[1;33m \u001b[1;32mdef\u001b[0m \u001b[0masarray\u001b[0m\u001b[1;33m(\u001b[0m\u001b[0ma\u001b[0m\u001b[1;33m,\u001b[0m \u001b[0mdtype\u001b[0m\u001b[1;33m=\u001b[0m\u001b[1;32mNone\u001b[0m\u001b[1;33m,\u001b[0m \u001b[0morder\u001b[0m\u001b[1;33m=\u001b[0m\u001b[1;32mNone\u001b[0m\u001b[1;33m)\u001b[0m\u001b[1;33m:\u001b[0m\u001b[1;33m\u001b[0m\u001b[0m\n\u001b[0m\u001b[0;32m    464\u001b[0m     \"\"\"Convert the input to an array.\n\u001b[0;32m    465\u001b[0m \u001b[1;33m\u001b[0m\u001b[0m\n",
      "\u001b[1;31mKeyboardInterrupt\u001b[0m: "
     ]
    }
   ],
   "source": [
    "orders_test = data_predict.loc[data_predict.eval_set=='test',:]\n",
    "features = ['recency','frequency','cart_order']\n",
    "submission = []\n",
    "for index, row in orders_test.iterrows():\n",
    "    orders_predict = data_predict.loc[(data_predict.user_id==row.user_id) & (data_predict.eval_set=='prior'),:]\n",
    "    orders_predict = pd.merge(orders_predict,order_prior,'inner',on='order_id')\n",
    "    frequency_map = orders_predict['product_id'].value_counts().to_dict()\n",
    "    order_days = orders_predict[['order_number','days_since_prior_order']]\n",
    "    order_days = order_days.drop_duplicates()\n",
    "    order_days.update(order_days[['days_since_prior_order']].fillna(0))\n",
    "    order_days['cum_days'] = order_days['days_since_prior_order'].cumsum()\n",
    "    order_map = order_days.groupby('order_number').cum_days.mean().to_dict()\n",
    "    orders_predict['cum_days'] = orders_predict.order_number.map(order_map)\n",
    "    recency_map = orders_predict.groupby('product_id').cum_days.max().to_dict()\n",
    "    orders_predict['recency'] = (orders_predict.cum_days.max() - orders_predict.product_id.map(recency_map)) / 7\n",
    "    orders_predict['frequency'] = orders_predict.product_id.map(frequency_map) / orders_predict.order_number.max()\n",
    "    cart_order_map = orders_predict.groupby('product_id').add_to_cart_order.mean().to_dict()\n",
    "    orders_predict['cart_order'] = orders_predict.product_id.map(cart_order_map) / \\\n",
    "                               orders_predict.groupby('order_number').order_number.value_counts().mean()\n",
    "    orders_predict = orders_predict[['product_id','recency','frequency','cart_order']].copy()\n",
    "    orders_predict = orders_predict.drop_duplicates()\n",
    "    df_predict = orders_predict.copy()\n",
    "    X = df_predict[features].copy()\n",
    "    y_proba = logreg.predict_proba(X)\n",
    "    df_pred = pd.DataFrame({\"product_id\":df_predict['product_id'],\"probability\":y_proba[:,1]})\n",
    "    df_pred = df_pred[df_pred.probability >= 0.5]\n",
    "    df_pred = df_pred.sort_values([\"probability\"], ascending = False)\n",
    "    ord_text = str(row['order_id'])\n",
    "    prods_text = \" \".join(str(x) for x in df_pred['product_id'].values)\n",
    "    submit_text = ord_text + \", \" + prods_text\n",
    "    submission.append([submit_text])   "
   ]
  },
  {
   "cell_type": "code",
   "execution_count": 391,
   "metadata": {},
   "outputs": [
    {
     "data": {
      "text/plain": [
       "14129"
      ]
     },
     "execution_count": 391,
     "metadata": {},
     "output_type": "execute_result"
    }
   ],
   "source": [
    "len(submission)"
   ]
  },
  {
   "cell_type": "code",
   "execution_count": 392,
   "metadata": {},
   "outputs": [
    {
     "data": {
      "text/plain": [
       "[['2774568, 39190 47766 21903 17668 18599 43961 9387 24810 32402 23650 16797 22035 1819'],\n",
       " ['329954, 35469 22199 26576 25146 25623 21573 1200 17769 43704 37646 11865 19057 42329 7160 36606'],\n",
       " ['1528013, 38293 21903 49401 25659 8424 20323 40992 27521 45007 11068 48679 10644'],\n",
       " ['1376945, 8309 27959 14947 35948 28465 34658 33572 8670 44632 20383 42585 35640 10644 24799 17706 48697 49374 30563 5989 41909 17794 13176 4799 33021 21040 8230 30480 22950 34551'],\n",
       " ['1356845, 13176 14992 10863 7076 28134 21616 8239 5746 20350 44422 11520 31506 22959 7120 37687 19006 39667 17794 30489 49683 24390 47509 34243 48364 16185 248 42736 19895 18761 45056 37646 38693 47144 44661 22935 35345 12797 10978 33443 28342 20144 47672 38164 42450'],\n",
       " ['2161313, 14715 12427 11266 10441 37710 27839 196 48142 1747'],\n",
       " ['1416320, 21903 5134 41950 17948 24852 21137 48745 651 4086 43014 28985 24561 15872 21405 14197 21616 28289 48283 32691 44359 17794 7948 27104'],\n",
       " ['1735923, 17008 35123 2192 12108 15131 24629 18174 31487 34690 15599 196 5183 30123 45037 27138 14252 17763 33756 33122 3747 25367 10823 5209 1832 13249 29577 39290 23483 42913 25170 47805 20945 41483 40974 22520 46052 28805 41302 48437 43692 4817 14905 14147 18329 13822 22608 9387 9076 16855 10990 22999 35042 13921 30960 31087 14197 9493 11749 18102 44234 44187 43772 39993'],\n",
       " ['1980631, 13575 9387 22362 13914 46061 6184 41400'],\n",
       " ['139655, 22935 27845 24964 17794 13176 21903 32655 22963 32096']]"
      ]
     },
     "execution_count": 392,
     "metadata": {},
     "output_type": "execute_result"
    }
   ],
   "source": [
    "submission[0:10]"
   ]
  },
  {
   "cell_type": "code",
   "execution_count": 393,
   "metadata": {
    "collapsed": true
   },
   "outputs": [],
   "source": [
    "with open('submit.pickle', 'wb') as f:\n",
    "    # Pickle the 'data' dictionary using the highest protocol available.\n",
    "    pickle.dump(submission, f, pickle.HIGHEST_PROTOCOL)"
   ]
  },
  {
   "cell_type": "code",
   "execution_count": null,
   "metadata": {
    "collapsed": true
   },
   "outputs": [],
   "source": []
  }
 ],
 "metadata": {
  "kernelspec": {
   "display_name": "Python 3",
   "language": "python",
   "name": "python3"
  },
  "language_info": {
   "codemirror_mode": {
    "name": "ipython",
    "version": 3
   },
   "file_extension": ".py",
   "mimetype": "text/x-python",
   "name": "python",
   "nbconvert_exporter": "python",
   "pygments_lexer": "ipython3",
   "version": "3.6.1"
  }
 },
 "nbformat": 4,
 "nbformat_minor": 2
}
